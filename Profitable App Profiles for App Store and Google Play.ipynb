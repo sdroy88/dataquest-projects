{
 "cells": [
  {
   "cell_type": "markdown",
   "metadata": {},
   "source": [
    "# Profitable App Profiles for Apple Store and Google Play Markets\n",
    "\n",
    "This case study relates to data on free Android and iOS mobile apps. Free apps generate revenue using in-app ads. Higher the number of users using the app, the more users that see and engage with ads, and higher the revenue generated.\n",
    "\n",
    "The objective is to help developers understand what types of apps are likely to attract more users."
   ]
  },
  {
   "cell_type": "markdown",
   "metadata": {},
   "source": [
    "## Explore the datasets\n",
    "\n",
    "We have 2 sources of data - one from Google Play store, and the other from Apple Store. We can open these up and store them as lists."
   ]
  },
  {
   "cell_type": "code",
   "execution_count": null,
   "metadata": {},
   "outputs": [],
   "source": [
    "from csv import reader\n",
    "apple_ds = list(reader(open('/Users/shubzroy/Documents/GitHub/Analytics/Datasets/AppleStore.csv')))\n",
    "apple_ds_header = apple_ds[0]\n",
    "apple_ds = apple_ds[1:]\n",
    "google_ds = list(reader(open('/Users/shubzroy/Documents/GitHub/Analytics/Datasets/googleplaystore.csv')))\n",
    "google_ds_header = google_ds[0]\n",
    "google_ds = google_ds[1:]"
   ]
  },
  {
   "cell_type": "markdown",
   "metadata": {},
   "source": [
    "The following function will allow us to slice the data and explore the contents of each list."
   ]
  },
  {
   "cell_type": "code",
   "execution_count": null,
   "metadata": {},
   "outputs": [],
   "source": [
    "def explore_data(dataset, start, end, rows_and_columns=False):\n",
    "    dataset_slice = dataset[start:end]    \n",
    "    for row in dataset_slice:\n",
    "        print(row)\n",
    "        print('\\n') # adds a new (empty) line after each row\n",
    "\n",
    "    if rows_and_columns:\n",
    "        print('Number of rows:', len(dataset))\n",
    "        print('Number of columns:', len(dataset[0]))"
   ]
  },
  {
   "cell_type": "code",
   "execution_count": null,
   "metadata": {},
   "outputs": [],
   "source": [
    "explore_data(google_ds, 0, 5, rows_and_columns = True)"
   ]
  },
  {
   "cell_type": "code",
   "execution_count": null,
   "metadata": {},
   "outputs": [],
   "source": [
    "explore_data(apple_ds, 0, 4, rows_and_columns = False)"
   ]
  },
  {
   "cell_type": "code",
   "execution_count": null,
   "metadata": {},
   "outputs": [],
   "source": [
    "apple_ds_header"
   ]
  },
  {
   "cell_type": "code",
   "execution_count": null,
   "metadata": {},
   "outputs": [],
   "source": [
    "google_ds_header"
   ]
  },
  {
   "cell_type": "markdown",
   "metadata": {},
   "source": [
    "Based on the column headers, we can use the Category, Genres, Rating, Number of Reviews, and Installs to determine popularity based on App Type. Content Rating can give further insight on the population of users in case of targeted advertisiing."
   ]
  },
  {
   "cell_type": "markdown",
   "metadata": {},
   "source": [
    "# Data Cleansing\n",
    "\n",
    "\n",
    "## Removing Duplicates\n",
    "Before analyzing a dataset, we need to ensure the data is clean without any (or minimal) discrepancies, to ensure the analysis is accurate and to reduce the possibility of errors. This includes:\n",
    "- removing duplicate records\n",
    "- removing or correcting inaccurate data\n",
    "- ensuring only relevant data is retained (eg. removing non-English apps)\n",
    "\n",
    "Check the data to find rows that don't have same number of columns as described in header. Delete the row if there are any. In some cases, it might be useful to retain the datapoint if the missing values can be guessed based on sampling."
   ]
  },
  {
   "cell_type": "code",
   "execution_count": null,
   "metadata": {},
   "outputs": [],
   "source": [
    "for row in google_ds:\n",
    "    if len(row) != len(google_ds[0]):\n",
    "        print(row)\n",
    "        print(google_ds.index(row))\n",
    "        \n",
    "print(google_ds[10472])"
   ]
  },
  {
   "cell_type": "code",
   "execution_count": null,
   "metadata": {},
   "outputs": [],
   "source": [
    "del google_ds[10472]"
   ]
  },
  {
   "cell_type": "markdown",
   "metadata": {},
   "source": [
    "Check the data for duplicate records. Here's an example of an app repeated over 4 rows. Using the loop below, we use \"Instagram\" as an example to highlight the presence of multiple rows for the same app."
   ]
  },
  {
   "cell_type": "code",
   "execution_count": null,
   "metadata": {},
   "outputs": [],
   "source": [
    "for app in google_ds:\n",
    "    name = app[0]\n",
    "    if name == 'Box':\n",
    "        print(app)"
   ]
  },
  {
   "cell_type": "code",
   "execution_count": null,
   "metadata": {},
   "outputs": [],
   "source": [
    "for app in apple_ds:\n",
    "    name = app[1]\n",
    "    if name == 'Instagram':\n",
    "        print(app)\n",
    "\n",
    "for app in apple_ds:\n",
    "    name = app[1]\n",
    "    if name == 'Mannequin Challenge':\n",
    "        print(app)\n",
    "        \n",
    "for app in apple_ds:\n",
    "    name = app[1]\n",
    "    if name == 'VR Roller Coaster':\n",
    "        print(app)"
   ]
  },
  {
   "cell_type": "markdown",
   "metadata": {},
   "source": [
    "We can expand on the above function, loop through the data, and find all instances of duplicated data."
   ]
  },
  {
   "cell_type": "code",
   "execution_count": null,
   "metadata": {},
   "outputs": [],
   "source": [
    "duplicate_apps = []\n",
    "unique_apps = []\n",
    "\n",
    "for app in google_ds:\n",
    "    name = app[0]\n",
    "    if name in unique_apps:\n",
    "        duplicate_apps.append(name)\n",
    "    else:\n",
    "        unique_apps.append(name)\n",
    "        \n",
    "print('Number of duplicate apps:', len(duplicate_apps))\n",
    "print('\\n')\n",
    "print('Examples of duplicate apps:', duplicate_apps[:10])"
   ]
  },
  {
   "cell_type": "code",
   "execution_count": null,
   "metadata": {},
   "outputs": [],
   "source": [
    "# Check Apple data for duplicates\n",
    "\n",
    "duplicate_apps_apple = []\n",
    "unique_apps_apple = []\n",
    "\n",
    "for app in apple_ds:\n",
    "    id = app[0]\n",
    "    if id in unique_apps_apple:\n",
    "        duplicate_apps_apple.append(name)\n",
    "    else:\n",
    "        unique_apps_apple.append(name)\n",
    "        \n",
    "print('Number of duplicate apps:', len(duplicate_apps_apple))\n",
    "print('\\n')\n",
    "print('Examples of duplicate apps:', duplicate_apps_apple[:10])"
   ]
  },
  {
   "cell_type": "markdown",
   "metadata": {},
   "source": [
    "Given the ID field in the Apple Data is unique, we'll assume there are no duplicates in the data.\n",
    "Note: further down the line, we may want to double check with the name field as well.\n",
    "\n",
    "We can use several different criteria to remove duplicate data. We can use the following steps:\n",
    "- For cases where there are multiple rows with no difference in values, we simply retain just one of the records\n",
    "- We can use the updated date to obtain the latest values for an app\n",
    "- We can use the number of reviews to retain the row with the highest number of refviews\n",
    "\n",
    "In this example we shall only retain the entries that have the highest number of reviews. We first create a dictionary with the name of the app and the highest number of reviews of the corresponding app. Then we'll use this dictionary to create a new data set to retain just the entries in the source data with the highest number of reviews. "
   ]
  },
  {
   "cell_type": "code",
   "execution_count": null,
   "metadata": {},
   "outputs": [],
   "source": [
    "reviews_max = {}\n",
    "for app in google_ds:\n",
    "    name = app[0]\n",
    "    n_reviews = float(app[3])    \n",
    "    if (name in reviews_max) and (reviews_max[name] < n_reviews):\n",
    "        reviews_max[name] = n_reviews\n",
    "    elif (name not in reviews_max):\n",
    "        reviews_max[name] = n_reviews"
   ]
  },
  {
   "cell_type": "markdown",
   "metadata": {},
   "source": [
    "The length of the dictionary can be used to check the number of unique apps versus the expected result."
   ]
  },
  {
   "cell_type": "code",
   "execution_count": null,
   "metadata": {},
   "outputs": [],
   "source": [
    "print(len(google_ds)-1181)\n",
    "print(len(reviews_max))"
   ]
  },
  {
   "cell_type": "markdown",
   "metadata": {},
   "source": [
    "Now we loop through the Play Store data, and create a clean data set which has the apps only with the highest number of reviews, as per the dictionary. We also track the apps already added, such that if there are multiple entries with the same number of reviews, we only add it once."
   ]
  },
  {
   "cell_type": "code",
   "execution_count": null,
   "metadata": {},
   "outputs": [],
   "source": [
    "already_added = []\n",
    "google_clean = []\n",
    "\n",
    "for app in google_ds:\n",
    "    name = app[0]\n",
    "    n_reviews = float(app[3])\n",
    "    \n",
    "    if (name not in already_added) and (n_reviews == reviews_max[name]):\n",
    "        already_added.append(name)\n",
    "        google_clean.append(app)\n",
    "\n",
    "# explore the google_clean dataset to ensure \n",
    "print(len(google_clean))\n",
    "explore_data(google_clean, 0, 4, True)"
   ]
  },
  {
   "cell_type": "markdown",
   "metadata": {},
   "source": [
    "Note: The Apple Store data does not have duplicated data. This can be confirmed by following the above series of steps."
   ]
  },
  {
   "cell_type": "markdown",
   "metadata": {},
   "source": [
    "## Removing non-English characters\n",
    "\n",
    "The analysis involves apps directed to English-speaking audiences only. The ord function checks a character and returns a number corresponding to the ASCII code. Numbers in the range 0 to 127 correspond to all the characters used in English text. "
   ]
  },
  {
   "cell_type": "code",
   "execution_count": null,
   "metadata": {},
   "outputs": [],
   "source": [
    "def eng_check(word):\n",
    "    check = 0\n",
    "    for a in word:\n",
    "        if ord(a) > 127:\n",
    "            check+=1\n",
    "            \n",
    "    if check > 3:  # adding a threshold for emojis and other characters\n",
    "        return False\n",
    "    else:\n",
    "        return True\n",
    "    \n",
    "# test the function\n",
    "# eng_check('爱奇艺PPS -《欢乐颂2》电视剧热播')\n",
    "# eng_check('Instagram')\n",
    "# eng_check('Instachat 😜')\n",
    "eng_check('Docs To Go™ Free Office Suite')"
   ]
  },
  {
   "cell_type": "markdown",
   "metadata": {},
   "source": [
    "We can use the above function to loop through the dataset, append only the apps with English names to a new list."
   ]
  },
  {
   "cell_type": "code",
   "execution_count": null,
   "metadata": {},
   "outputs": [],
   "source": [
    "google_english = []\n",
    "google_nonenglish = []\n",
    "apple_english = []\n",
    "apple_nonenglish = []\n",
    "\n",
    "for app in google_clean:\n",
    "    name = app[0]\n",
    "    if eng_check(name) == True:\n",
    "        google_english.append(app)\n",
    "    else:\n",
    "        google_nonenglish.append(app)\n",
    "\n",
    "for app in apple_ds:\n",
    "    name = app[1]\n",
    "    if eng_check(name) == True:\n",
    "        apple_english.append(app)\n",
    "    else:\n",
    "        apple_nonenglish.append(app)"
   ]
  },
  {
   "cell_type": "code",
   "execution_count": null,
   "metadata": {},
   "outputs": [],
   "source": [
    "# Check the lengths of each dataset - should add up to original 9659 apps\n",
    "print(len(google_english))\n",
    "print(len(google_nonenglish))\n",
    "print(len(apple_english))\n",
    "print(len(apple_nonenglish))"
   ]
  },
  {
   "cell_type": "code",
   "execution_count": null,
   "metadata": {},
   "outputs": [],
   "source": [
    "explore_data(google_english, 0, 5, True)"
   ]
  },
  {
   "cell_type": "code",
   "execution_count": null,
   "metadata": {},
   "outputs": [],
   "source": [
    "explore_data(apple_english, 0, 5, True)"
   ]
  },
  {
   "cell_type": "markdown",
   "metadata": {},
   "source": [
    "## Removing paid apps\n",
    "\n",
    "Our analysis needs to include only free apps. We will have to loop through the data set once again and retain only free apps targeted to English speaking customers only."
   ]
  },
  {
   "cell_type": "code",
   "execution_count": null,
   "metadata": {},
   "outputs": [],
   "source": [
    "google_eng_free = []\n",
    "google_eng_paid = []\n",
    "apple_eng_free = []\n",
    "apple_eng_paid = []\n",
    "\n",
    "for app in google_english:\n",
    "    price = app[7]\n",
    "    if price == '0':\n",
    "        google_eng_free.append(app)\n",
    "    else:\n",
    "        google_eng_paid.append(app)\n",
    "\n",
    "for app in apple_english:\n",
    "    price = app[4]\n",
    "    if price == '0.0':\n",
    "        apple_eng_free.append(app)\n",
    "    else:\n",
    "        apple_eng_paid.append(app)"
   ]
  },
  {
   "cell_type": "code",
   "execution_count": null,
   "metadata": {},
   "outputs": [],
   "source": [
    "# Check the lengths of each dataset - should add up to original 9614 english apps\n",
    "print(len(google_eng_free))\n",
    "print(len(google_eng_paid))\n",
    "print(len(apple_eng_free))\n",
    "print(len(apple_eng_paid))"
   ]
  },
  {
   "cell_type": "code",
   "execution_count": null,
   "metadata": {},
   "outputs": [],
   "source": [
    "explore_data(apple_eng_free, 0, 5, True)"
   ]
  },
  {
   "cell_type": "code",
   "execution_count": null,
   "metadata": {},
   "outputs": [],
   "source": [
    "explore_data(google_eng_free, 0, 5, True)"
   ]
  },
  {
   "cell_type": "markdown",
   "metadata": {},
   "source": [
    "# Data Analysis\n",
    "\n",
    "## Problem Statement\n",
    "\n",
    "The objective of the analysis is to determine what kinds of apps are likely to attract more customers since ad revenue from free apps is highly dependent on the number of users using the app. Additionally, the validation strategy of an app idea is \n",
    "\n",
    "1. Release an app involves releasing a minimal version on Google Play store\n",
    "2. If the app has a good response from users, develop the app further\n",
    "3. If the app is profitable after 6 months, build iOS version and release it on App Store\n",
    "\n",
    "Given this strategy, it becomes important to understand what apps have been popular across both markets. Given this strategy, it becomes important to understand what apps have been popular across both markets.\n",
    "\n",
    "## Most common apps by Genre\n",
    "\n",
    "We're going to create a couple function to help us build frequency tables using the Google and Apple datasets."
   ]
  },
  {
   "cell_type": "code",
   "execution_count": null,
   "metadata": {},
   "outputs": [],
   "source": [
    "# This function creates a frequency table using a given dataset, and a column of interest\n",
    "def freq_table(dataset, index):\n",
    "    freq = {}\n",
    "    total = 0\n",
    "    for app in dataset:\n",
    "        total += 1\n",
    "        value = app[index]\n",
    "        if value in freq:\n",
    "            freq[value] += 1\n",
    "        else:\n",
    "            freq[value] = 1\n",
    "    \n",
    "    freq_pct = {}\n",
    "    for app in freq:\n",
    "        freq_pct[app] = round((freq[app]/total)*100, 2)\n",
    "    \n",
    "    return freq_pct\n",
    "    \n",
    "# This function 1) takes in a dataset, and an index for a column as an input\n",
    "# 2) builds a frequency table using the freq_table function\n",
    "# 3) displays the table in a descending order of frequenct\n",
    "def display_table(dataset, index):\n",
    "    table = freq_table(dataset, index)\n",
    "    table_display = []\n",
    "    for key in table:\n",
    "        key_val_as_tuple = (table[key], key)\n",
    "        table_display.append(key_val_as_tuple)\n",
    "\n",
    "    table_sorted = sorted(table_display, reverse = True)\n",
    "    for entry in table_sorted:\n",
    "        print(entry[1], ':', entry[0])"
   ]
  },
  {
   "cell_type": "markdown",
   "metadata": {},
   "source": [
    "Let's run the above function on the Apple dataset for free English apps."
   ]
  },
  {
   "cell_type": "code",
   "execution_count": null,
   "metadata": {},
   "outputs": [],
   "source": [
    "display_table(apple_eng_free, 11) # Prime Genre (Apple)"
   ]
  },
  {
   "cell_type": "markdown",
   "metadata": {},
   "source": [
    "We can see that Games are the most common free English apps available from the Apple Store accounting for 58% of the population. The second-most common genre is Entertainment. The most common apps in this population are designed for entertainment purposes. Games, Entertainment, Photo & Video, Social Networking, Sports, and Music cover ~80% of the population. The apps designed for Practical purposes (for example, Lifestyle, Shopping, Weather) account for a much smaller portion of the available apps - often less 2-3%.\n",
    "\n",
    "Note that these are just the apps that are available in the store, and does not account if these genres have a large number of users. This alone is not enough information to determine the app profile recommendation for the Ap Store market. We would have to combine this data with the number of users, and the average user rating as well for better results.\n",
    "\n",
    "Let's look at the Category and Genre details for the Google dataset next."
   ]
  },
  {
   "cell_type": "code",
   "execution_count": null,
   "metadata": {},
   "outputs": [],
   "source": [
    "display_table(google_eng_free, 1) # Category (Google)"
   ]
  },
  {
   "cell_type": "markdown",
   "metadata": {},
   "source": [
    "We can see that the largest percentage of the apps in the Google play store is ~19% for Family. As per the Google Play store, the category of Family also includes Games. [Note: this is no longer the case. The category \"Family\" no longer exists in the Google Play Store.]\n",
    "\n",
    "Even so, the remaining categories have a decent representation compared to the Apple Store data. Apps designed for fun account for ~30% of the population. The landscape is far more balanced. "
   ]
  },
  {
   "cell_type": "code",
   "execution_count": null,
   "metadata": {},
   "outputs": [],
   "source": [
    "display_table(google_eng_free, 9) # Genre (Google)"
   ]
  },
  {
   "cell_type": "markdown",
   "metadata": {},
   "source": [
    "This is further confirmed byt the Genre data. The Genre information appears to be a more granular look at the apps compared to the Category data, with a portion of the apps having multiple genres (for example, \"Lifestyle; Education\" or \"Health & Fitness ; Action & Adventure\".)\n",
    "\n",
    "Again - this is not enough information to decide a recommendation. This merely tells us what are the apps currently availble in the store, and not how many users we have for each genre.\n",
    "\n",
    "## Category of Apps with Most Users\n",
    "\n",
    "To determine which category of apps are the most popular among users, we'd want to find the average number of installs per category. For this we have the 'Installs' column in the Google dataset. We do not have a similar datapoint in the Apple dataset. We could use the 'rating_count_tot' datapoint as a workaround. This is the total number of user ratings, and we'll be making the assumption that the users that installed the app rated the app as well.\n",
    "\n",
    "Let's start with the Apple Store data, and generate a unique list of genres."
   ]
  },
  {
   "cell_type": "code",
   "execution_count": null,
   "metadata": {},
   "outputs": [],
   "source": [
    "apple_freq_table = freq_table(apple_eng_free, 11)\n",
    "\n",
    "for genre in apple_freq_table:\n",
    "    total = 0\n",
    "    len_genre = 0\n",
    "    for app in apple_eng_free:\n",
    "        genre_app = app[11]\n",
    "        if genre_app == genre:\n",
    "            ratings_ct = float(app[5])\n",
    "            total += ratings_ct\n",
    "            len_genre += 1\n",
    "    avg_num_ratings = round(total / len_genre, 2)\n",
    "    print(genre, ': ', avg_num_ratings)    "
   ]
  },
  {
   "cell_type": "markdown",
   "metadata": {},
   "source": [
    "Navigation (86k) > Reference (75k) > Social Networking (71k) >  > Music (57k) > Weather (52k) > \n",
    "Book (39k) > Food & Drink (33k) > Finance (31k)\n",
    "\n",
    "Free Navigation apps have the highest number of average users, followed by Reference and Social Networking apps. Navigation and Social Networking apps have key players already, and building a new app would need to have a major differentiator to compete. "
   ]
  },
  {
   "cell_type": "code",
   "execution_count": null,
   "metadata": {},
   "outputs": [],
   "source": [
    "for app in apple_eng_free:\n",
    "    genre = app[11]\n",
    "    if genre == 'Navigation':\n",
    "        print(app[1], ': ', app[5])"
   ]
  },
  {
   "cell_type": "code",
   "execution_count": null,
   "metadata": {},
   "outputs": [],
   "source": [
    "for app in apple_eng_free:\n",
    "    genre = app[11]\n",
    "    if genre == 'Social Networking':\n",
    "        print(app[1], ': ', app[5])"
   ]
  },
  {
   "cell_type": "markdown",
   "metadata": {},
   "source": [
    "As we can see from above, 2 Navigation apps (Waze and Google Maps) currently dominate the user base, and it would be a hard market to enter. There are several key players already in the Social Networking space (Facebook and Pinterest being the key leaders)."
   ]
  },
  {
   "cell_type": "code",
   "execution_count": null,
   "metadata": {},
   "outputs": [],
   "source": [
    "for app in apple_eng_free:\n",
    "    genre = app[11]\n",
    "    if genre == 'Reference':\n",
    "        print(app[1], ': ', app[5])"
   ]
  },
  {
   "cell_type": "code",
   "execution_count": null,
   "metadata": {},
   "outputs": [],
   "source": [
    "for app in apple_eng_free:\n",
    "    genre = app[11]\n",
    "    if genre == 'Finance':\n",
    "        print(app[1], ': ', app[5])"
   ]
  },
  {
   "cell_type": "markdown",
   "metadata": {},
   "source": [
    "Looking into the Reference apps, we see that these are largely books or manuals converted to an app format. The Finance category is also one of the Top 10 categories. Specifically, a Reference app targeting Finance / Personal Budgeting could be an option to pursue.\n",
    "\n",
    "We can next review the Google dataset. We see that we have the \"installs\" column in the dataset. However, this is a text field, and provides just ranges for the number of downloads. "
   ]
  },
  {
   "cell_type": "code",
   "execution_count": null,
   "metadata": {},
   "outputs": [],
   "source": [
    "freq_table(google_eng_free, 5)"
   ]
  },
  {
   "cell_type": "markdown",
   "metadata": {},
   "source": [
    "For example, an app could have \"100,000+\" downloads, with no specificity. This is fine since this still gives us an idea of the most popular categories based on the number. We first need to remove the \"+\" and \",\" to be able to estimate the average."
   ]
  },
  {
   "cell_type": "code",
   "execution_count": null,
   "metadata": {},
   "outputs": [],
   "source": [
    "# Create a distinct list of categories in the Google dataset\n",
    "google_freq_table = freq_table(google_eng_free, 1)\n",
    "\n",
    "for category in google_freq_table:\n",
    "    total = 0\n",
    "    len_category = 0\n",
    "    for app in google_eng_free:\n",
    "        category_app = app[1]\n",
    "        if category_app == category:\n",
    "            n_installs = app[5]\n",
    "            n_installs = n_installs.replace('+', '')\n",
    "            n_installs = n_installs.replace(',', '')\n",
    "            total += float(n_installs)\n",
    "            len_category += 1\n",
    "    avg_installs = round(total / len_category, 2)\n",
    "    print(category, ': ', avg_installs)"
   ]
  },
  {
   "cell_type": "markdown",
   "metadata": {},
   "source": [
    "The Communication and Video Player categories have the highest number of installs, but similar to the apple store, are likely to be dominated by a handful of players. "
   ]
  },
  {
   "cell_type": "code",
   "execution_count": null,
   "metadata": {},
   "outputs": [],
   "source": [
    "for app in google_eng_free:\n",
    "    category = app[1]\n",
    "    n_installs = app[5]\n",
    "    n_installs = n_installs.replace('+', '')\n",
    "    n_installs = float(n_installs.replace(',', ''))\n",
    "    if category == 'COMMUNICATION' and (n_installs >= 500000000):\n",
    "        print(app[0], ': ', app[5])"
   ]
  },
  {
   "cell_type": "code",
   "execution_count": null,
   "metadata": {},
   "outputs": [],
   "source": [
    "for app in google_eng_free:\n",
    "    category = app[1]\n",
    "    n_installs = app[5]\n",
    "    n_installs = n_installs.replace('+', '')\n",
    "    n_installs = float(n_installs.replace(',', ''))\n",
    "    if category == 'VIDEO_PLAYERS' and (n_installs >= 500000000):\n",
    "        print(app[0], ': ', app[5])"
   ]
  },
  {
   "cell_type": "markdown",
   "metadata": {},
   "source": [
    "We can see based on the above that 11, and 3 apps dominate the Communication, and Video Players categories, respectively, with each app accounting for greater than half a billion installs each. These would not be good recommendations, as it would be extremely difficult to enter these markets.\n",
    "\n",
    "If we compare to the Apple Store data, Google Play appears to categorize the \"Book\" and \"Reference\" categories into one."
   ]
  },
  {
   "cell_type": "code",
   "execution_count": null,
   "metadata": {},
   "outputs": [],
   "source": [
    "for app in google_eng_free:\n",
    "    category = app[1]\n",
    "    n_installs = app[5]\n",
    "    n_installs = n_installs.replace('+', '')\n",
    "    n_installs = float(n_installs.replace(',', ''))\n",
    "    if category == 'BOOKS_AND_REFERENCE' and (n_installs >= 1000000):\n",
    "        print(app[0], ': ', app[5])"
   ]
  },
  {
   "cell_type": "markdown",
   "metadata": {},
   "source": [
    "Again, similar to the Apple Store data, we see that the books and reference apps are essentially large books that are in the format of an app. These include religious books, and dictionaries."
   ]
  },
  {
   "cell_type": "markdown",
   "metadata": {},
   "source": [
    "# Conclusion\n",
    "\n",
    "Our objective was to analyze the app data from both the Google Play Store and the Apple App Store to provide a recommendation for a free app that could be a source of significant ad revenue. Through the process, we understood  which category of apps are the most downloaded on average. \n",
    "\n",
    "On further investigation, we noted that the Books and Rerefence category offers up the most amount of options and flexibility. Essentially, a large book typically referred to at a regular cadence (eg. tax or accounting information) could be built into an app format with search options. Additional features could include a discussion forum, highlighting/storing quotes or excerpts per user etc."
   ]
  }
 ],
 "metadata": {
  "kernelspec": {
   "display_name": "Python 3",
   "language": "python",
   "name": "python3"
  },
  "language_info": {
   "codemirror_mode": {
    "name": "ipython",
    "version": 3
   },
   "file_extension": ".py",
   "mimetype": "text/x-python",
   "name": "python",
   "nbconvert_exporter": "python",
   "pygments_lexer": "ipython3",
   "version": "3.8.2"
  }
 },
 "nbformat": 4,
 "nbformat_minor": 4
}
