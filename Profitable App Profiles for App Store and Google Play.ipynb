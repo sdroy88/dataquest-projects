{
 "cells": [
  {
   "cell_type": "markdown",
   "metadata": {},
   "source": [
    "# Profitable App Profiles for Apple Store and Google Play Markets\n",
    "\n",
    "This case study relates to data on free Android and iOS mobile apps. Free apps generate revenue using in-app ads. Higher the number of users using the app, the more users that see and engage with ads, and higher the revenue generated.\n",
    "\n",
    "The objective is to help developers understand what types of apps are likely to attract more users."
   ]
  },
  {
   "cell_type": "markdown",
   "metadata": {},
   "source": [
    "## Explore the datasets\n",
    "\n",
    "We have 2 sources of data - one from Google Play store, and the other from Apple Store. We can open these up and store them as lists."
   ]
  },
  {
   "cell_type": "code",
   "execution_count": 1,
   "metadata": {},
   "outputs": [],
   "source": [
    "from csv import reader\n",
    "apple_ds = list(reader(open('AppleStore.csv')))\n",
    "apple_ds_header = apple_ds[0]\n",
    "apple_ds = apple_ds[1:]\n",
    "google_ds = list(reader(open('googleplaystore.csv')))\n",
    "google_ds_header = google_ds[0]\n",
    "google_ds = google_ds[1:]"
   ]
  },
  {
   "cell_type": "markdown",
   "metadata": {},
   "source": [
    "The following function will allow us to slice the data and explore the contents of each list."
   ]
  },
  {
   "cell_type": "code",
   "execution_count": 2,
   "metadata": {},
   "outputs": [],
   "source": [
    "def explore_data(dataset, start, end, rows_and_columns=False):\n",
    "    dataset_slice = dataset[start:end]    \n",
    "    for row in dataset_slice:\n",
    "        print(row)\n",
    "        print('\\n') # adds a new (empty) line after each row\n",
    "\n",
    "    if rows_and_columns:\n",
    "        print('Number of rows:', len(dataset))\n",
    "        print('Number of columns:', len(dataset[0]))"
   ]
  },
  {
   "cell_type": "code",
   "execution_count": 3,
   "metadata": {},
   "outputs": [
    {
     "name": "stdout",
     "output_type": "stream",
     "text": [
      "['Photo Editor & Candy Camera & Grid & ScrapBook', 'ART_AND_DESIGN', '4.1', '159', '19M', '10,000+', 'Free', '0', 'Everyone', 'Art & Design', 'January 7, 2018', '1.0.0', '4.0.3 and up']\n",
      "\n",
      "\n",
      "['Coloring book moana', 'ART_AND_DESIGN', '3.9', '967', '14M', '500,000+', 'Free', '0', 'Everyone', 'Art & Design;Pretend Play', 'January 15, 2018', '2.0.0', '4.0.3 and up']\n",
      "\n",
      "\n",
      "['U Launcher Lite – FREE Live Cool Themes, Hide Apps', 'ART_AND_DESIGN', '4.7', '87510', '8.7M', '5,000,000+', 'Free', '0', 'Everyone', 'Art & Design', 'August 1, 2018', '1.2.4', '4.0.3 and up']\n",
      "\n",
      "\n",
      "['Sketch - Draw & Paint', 'ART_AND_DESIGN', '4.5', '215644', '25M', '50,000,000+', 'Free', '0', 'Teen', 'Art & Design', 'June 8, 2018', 'Varies with device', '4.2 and up']\n",
      "\n",
      "\n",
      "['Pixel Draw - Number Art Coloring Book', 'ART_AND_DESIGN', '4.3', '967', '2.8M', '100,000+', 'Free', '0', 'Everyone', 'Art & Design;Creativity', 'June 20, 2018', '1.1', '4.4 and up']\n",
      "\n",
      "\n",
      "Number of rows: 10841\n",
      "Number of columns: 13\n"
     ]
    }
   ],
   "source": [
    "explore_data(google_ds, 0, 5, rows_and_columns = True)"
   ]
  },
  {
   "cell_type": "code",
   "execution_count": 4,
   "metadata": {},
   "outputs": [
    {
     "name": "stdout",
     "output_type": "stream",
     "text": [
      "['284882215', 'Facebook', '389879808', 'USD', '0.0', '2974676', '212', '3.5', '3.5', '95.0', '4+', 'Social Networking', '37', '1', '29', '1']\n",
      "\n",
      "\n",
      "['389801252', 'Instagram', '113954816', 'USD', '0.0', '2161558', '1289', '4.5', '4.0', '10.23', '12+', 'Photo & Video', '37', '0', '29', '1']\n",
      "\n",
      "\n",
      "['529479190', 'Clash of Clans', '116476928', 'USD', '0.0', '2130805', '579', '4.5', '4.5', '9.24.12', '9+', 'Games', '38', '5', '18', '1']\n",
      "\n",
      "\n",
      "['420009108', 'Temple Run', '65921024', 'USD', '0.0', '1724546', '3842', '4.5', '4.0', '1.6.2', '9+', 'Games', '40', '5', '1', '1']\n",
      "\n",
      "\n"
     ]
    }
   ],
   "source": [
    "explore_data(apple_ds, 0, 4, rows_and_columns = False)"
   ]
  },
  {
   "cell_type": "code",
   "execution_count": 5,
   "metadata": {},
   "outputs": [
    {
     "data": {
      "text/plain": [
       "['id',\n",
       " 'track_name',\n",
       " 'size_bytes',\n",
       " 'currency',\n",
       " 'price',\n",
       " 'rating_count_tot',\n",
       " 'rating_count_ver',\n",
       " 'user_rating',\n",
       " 'user_rating_ver',\n",
       " 'ver',\n",
       " 'cont_rating',\n",
       " 'prime_genre',\n",
       " 'sup_devices.num',\n",
       " 'ipadSc_urls.num',\n",
       " 'lang.num',\n",
       " 'vpp_lic']"
      ]
     },
     "execution_count": 5,
     "metadata": {},
     "output_type": "execute_result"
    }
   ],
   "source": [
    "apple_ds_header"
   ]
  },
  {
   "cell_type": "code",
   "execution_count": 6,
   "metadata": {},
   "outputs": [
    {
     "data": {
      "text/plain": [
       "['App',\n",
       " 'Category',\n",
       " 'Rating',\n",
       " 'Reviews',\n",
       " 'Size',\n",
       " 'Installs',\n",
       " 'Type',\n",
       " 'Price',\n",
       " 'Content Rating',\n",
       " 'Genres',\n",
       " 'Last Updated',\n",
       " 'Current Ver',\n",
       " 'Android Ver']"
      ]
     },
     "execution_count": 6,
     "metadata": {},
     "output_type": "execute_result"
    }
   ],
   "source": [
    "google_ds_header"
   ]
  },
  {
   "cell_type": "markdown",
   "metadata": {},
   "source": [
    "Based on the column headers, we can use the Category, Genres, Rating, Number of Reviews, and Installs to determine popularity based on App Type. Content Rating can give further insight on the population of users in case of targeted advertisiing."
   ]
  },
  {
   "cell_type": "markdown",
   "metadata": {},
   "source": [
    "# Data Cleansing\n",
    "\n",
    "\n",
    "## Removing Duplicates\n",
    "Before analyzing a dataset, we need to ensure the data is clean without any (or minimal) discrepancies, to ensure the analysis is accurate and to reduce the possibility of errors. This includes:\n",
    "- removing duplicate records\n",
    "- removing or correcting inaccurate data\n",
    "- ensuring only relevant data is retained (eg. removing non-English apps)\n",
    "\n",
    "Check the data to find rows that don't have same number of columns as described in header. Delete the row if there are any. In some cases, it might be useful to retain the datapoint if the missing values can be guessed based on sampling."
   ]
  },
  {
   "cell_type": "code",
   "execution_count": 7,
   "metadata": {},
   "outputs": [
    {
     "name": "stdout",
     "output_type": "stream",
     "text": [
      "['Life Made WI-Fi Touchscreen Photo Frame', '1.9', '19', '3.0M', '1,000+', 'Free', '0', 'Everyone', '', 'February 11, 2018', '1.0.19', '4.0 and up']\n",
      "10472\n",
      "['Life Made WI-Fi Touchscreen Photo Frame', '1.9', '19', '3.0M', '1,000+', 'Free', '0', 'Everyone', '', 'February 11, 2018', '1.0.19', '4.0 and up']\n"
     ]
    }
   ],
   "source": [
    "for row in google_ds:\n",
    "    if len(row) != len(google_ds[0]):\n",
    "        print(row)\n",
    "        print(google_ds.index(row))\n",
    "        \n",
    "print(google_ds[10472])"
   ]
  },
  {
   "cell_type": "code",
   "execution_count": 8,
   "metadata": {},
   "outputs": [],
   "source": [
    "del google_ds[10472]"
   ]
  },
  {
   "cell_type": "markdown",
   "metadata": {},
   "source": [
    "Check the data for duplicate records. Here's an example of an app repeated over 4 rows. Using the loop below, we use \"Instagram\" as an example to highlight the presence of multiple rows for the same app."
   ]
  },
  {
   "cell_type": "code",
   "execution_count": 9,
   "metadata": {},
   "outputs": [
    {
     "name": "stdout",
     "output_type": "stream",
     "text": [
      "['Box', 'BUSINESS', '4.2', '159872', 'Varies with device', '10,000,000+', 'Free', '0', 'Everyone', 'Business', 'July 31, 2018', 'Varies with device', 'Varies with device']\n",
      "['Box', 'BUSINESS', '4.2', '159872', 'Varies with device', '10,000,000+', 'Free', '0', 'Everyone', 'Business', 'July 31, 2018', 'Varies with device', 'Varies with device']\n",
      "['Box', 'BUSINESS', '4.2', '159872', 'Varies with device', '10,000,000+', 'Free', '0', 'Everyone', 'Business', 'July 31, 2018', 'Varies with device', 'Varies with device']\n"
     ]
    }
   ],
   "source": [
    "for app in google_ds:\n",
    "    name = app[0]\n",
    "    if name == 'Box':\n",
    "        print(app)"
   ]
  },
  {
   "cell_type": "code",
   "execution_count": 10,
   "metadata": {},
   "outputs": [
    {
     "name": "stdout",
     "output_type": "stream",
     "text": [
      "['389801252', 'Instagram', '113954816', 'USD', '0.0', '2161558', '1289', '4.5', '4.0', '10.23', '12+', 'Photo & Video', '37', '0', '29', '1']\n",
      "['1173990889', 'Mannequin Challenge', '109705216', 'USD', '0.0', '668', '87', '3.0', '3.0', '1.4', '9+', 'Games', '37', '4', '1', '1']\n",
      "['1178454060', 'Mannequin Challenge', '59572224', 'USD', '0.0', '105', '58', '4.0', '4.5', '1.0.1', '4+', 'Games', '38', '5', '1', '1']\n",
      "['952877179', 'VR Roller Coaster', '169523200', 'USD', '0.0', '107', '102', '3.5', '3.5', '2.0.0', '4+', 'Games', '37', '5', '1', '1']\n",
      "['1089824278', 'VR Roller Coaster', '240964608', 'USD', '0.0', '67', '44', '3.5', '4.0', '0.81', '4+', 'Games', '38', '0', '1', '1']\n"
     ]
    }
   ],
   "source": [
    "for app in apple_ds:\n",
    "    name = app[1]\n",
    "    if name == 'Instagram':\n",
    "        print(app)\n",
    "\n",
    "for app in apple_ds:\n",
    "    name = app[1]\n",
    "    if name == 'Mannequin Challenge':\n",
    "        print(app)\n",
    "        \n",
    "for app in apple_ds:\n",
    "    name = app[1]\n",
    "    if name == 'VR Roller Coaster':\n",
    "        print(app)"
   ]
  },
  {
   "cell_type": "markdown",
   "metadata": {},
   "source": [
    "We can expand on the above function, loop through the data, and find all instances of duplicated data."
   ]
  },
  {
   "cell_type": "code",
   "execution_count": 11,
   "metadata": {},
   "outputs": [
    {
     "name": "stdout",
     "output_type": "stream",
     "text": [
      "Number of duplicate apps: 1181\n",
      "\n",
      "\n",
      "Examples of duplicate apps: ['Quick PDF Scanner + OCR FREE', 'Box', 'Google My Business', 'ZOOM Cloud Meetings', 'join.me - Simple Meetings', 'Box', 'Zenefits', 'Google Ads', 'Google My Business', 'Slack']\n"
     ]
    }
   ],
   "source": [
    "duplicate_apps = []\n",
    "unique_apps = []\n",
    "\n",
    "for app in google_ds:\n",
    "    name = app[0]\n",
    "    if name in unique_apps:\n",
    "        duplicate_apps.append(name)\n",
    "    else:\n",
    "        unique_apps.append(name)\n",
    "        \n",
    "print('Number of duplicate apps:', len(duplicate_apps))\n",
    "print('\\n')\n",
    "print('Examples of duplicate apps:', duplicate_apps[:10])"
   ]
  },
  {
   "cell_type": "code",
   "execution_count": 12,
   "metadata": {},
   "outputs": [
    {
     "name": "stdout",
     "output_type": "stream",
     "text": [
      "Number of duplicate apps: 0\n",
      "\n",
      "\n",
      "Examples of duplicate apps: []\n"
     ]
    }
   ],
   "source": [
    "# Check Apple data for duplicates\n",
    "\n",
    "duplicate_apps_apple = []\n",
    "unique_apps_apple = []\n",
    "\n",
    "for app in apple_ds:\n",
    "    id = app[0]\n",
    "    if id in unique_apps_apple:\n",
    "        duplicate_apps_apple.append(name)\n",
    "    else:\n",
    "        unique_apps_apple.append(name)\n",
    "        \n",
    "print('Number of duplicate apps:', len(duplicate_apps_apple))\n",
    "print('\\n')\n",
    "print('Examples of duplicate apps:', duplicate_apps_apple[:10])"
   ]
  },
  {
   "cell_type": "markdown",
   "metadata": {},
   "source": [
    "Given the ID field in the Apple Data is unique, we'll assume there are no duplicates in the data.\n",
    "Note: further down the line, we may want to double check with the name field as well.\n",
    "\n",
    "We can use several different criteria to remove duplicate data. We can use the following steps:\n",
    "- For cases where there are multiple rows with no difference in values, we simply retain just one of the records\n",
    "- We can use the updated date to obtain the latest values for an app\n",
    "- We can use the number of reviews to retain the row with the highest number of refviews\n",
    "\n",
    "In this example we shall only retain the entries that have the highest number of reviews. We first create a dictionary with the name of the app and the highest number of reviews of the corresponding app. Then we'll use this dictionary to create a new data set to retain just the entries in the source data with the highest number of reviews. "
   ]
  },
  {
   "cell_type": "code",
   "execution_count": 13,
   "metadata": {},
   "outputs": [],
   "source": [
    "reviews_max = {}\n",
    "for app in google_ds:\n",
    "    name = app[0]\n",
    "    n_reviews = float(app[3])    \n",
    "    if (name in reviews_max) and (reviews_max[name] < n_reviews):\n",
    "        reviews_max[name] = n_reviews\n",
    "    elif (name not in reviews_max):\n",
    "        reviews_max[name] = n_reviews"
   ]
  },
  {
   "cell_type": "markdown",
   "metadata": {},
   "source": [
    "The length of the dictionary can be used to check the number of unique apps versus the expected result."
   ]
  },
  {
   "cell_type": "code",
   "execution_count": 14,
   "metadata": {},
   "outputs": [
    {
     "name": "stdout",
     "output_type": "stream",
     "text": [
      "9659\n",
      "9659\n"
     ]
    }
   ],
   "source": [
    "print(len(google_ds)-1181)\n",
    "print(len(reviews_max))"
   ]
  },
  {
   "cell_type": "markdown",
   "metadata": {},
   "source": [
    "Now we loop through the Play Store data, and create a clean data set which has the apps only with the highest number of reviews, as per the dictionary. We also track the apps already added, such that if there are multiple entries with the same number of reviews, we only add it once."
   ]
  },
  {
   "cell_type": "code",
   "execution_count": 15,
   "metadata": {},
   "outputs": [
    {
     "name": "stdout",
     "output_type": "stream",
     "text": [
      "9659\n",
      "['Photo Editor & Candy Camera & Grid & ScrapBook', 'ART_AND_DESIGN', '4.1', '159', '19M', '10,000+', 'Free', '0', 'Everyone', 'Art & Design', 'January 7, 2018', '1.0.0', '4.0.3 and up']\n",
      "\n",
      "\n",
      "['U Launcher Lite – FREE Live Cool Themes, Hide Apps', 'ART_AND_DESIGN', '4.7', '87510', '8.7M', '5,000,000+', 'Free', '0', 'Everyone', 'Art & Design', 'August 1, 2018', '1.2.4', '4.0.3 and up']\n",
      "\n",
      "\n",
      "['Sketch - Draw & Paint', 'ART_AND_DESIGN', '4.5', '215644', '25M', '50,000,000+', 'Free', '0', 'Teen', 'Art & Design', 'June 8, 2018', 'Varies with device', '4.2 and up']\n",
      "\n",
      "\n",
      "['Pixel Draw - Number Art Coloring Book', 'ART_AND_DESIGN', '4.3', '967', '2.8M', '100,000+', 'Free', '0', 'Everyone', 'Art & Design;Creativity', 'June 20, 2018', '1.1', '4.4 and up']\n",
      "\n",
      "\n",
      "Number of rows: 9659\n",
      "Number of columns: 13\n"
     ]
    }
   ],
   "source": [
    "already_added = []\n",
    "google_clean = []\n",
    "\n",
    "for app in google_ds:\n",
    "    name = app[0]\n",
    "    n_reviews = float(app[3])\n",
    "    \n",
    "    if (name not in already_added) and (n_reviews == reviews_max[name]):\n",
    "        already_added.append(name)\n",
    "        google_clean.append(app)\n",
    "\n",
    "# explore the google_clean dataset to ensure \n",
    "print(len(google_clean))\n",
    "explore_data(google_clean, 0, 4, True)"
   ]
  },
  {
   "cell_type": "markdown",
   "metadata": {},
   "source": [
    "Note: The Apple Store data does not have duplicated data. This can be confirmed by following the above series of steps."
   ]
  },
  {
   "cell_type": "markdown",
   "metadata": {},
   "source": [
    "## Removing non-English characters\n",
    "\n",
    "The analysis involves apps directed to English-speaking audiences only. The ord function checks a character and returns a number corresponding to the ASCII code. Numbers in the range 0 to 127 correspond to all the characters used in English text. "
   ]
  },
  {
   "cell_type": "code",
   "execution_count": 16,
   "metadata": {},
   "outputs": [
    {
     "data": {
      "text/plain": [
       "True"
      ]
     },
     "execution_count": 16,
     "metadata": {},
     "output_type": "execute_result"
    }
   ],
   "source": [
    "def eng_check(word):\n",
    "    check = 0\n",
    "    for a in word:\n",
    "        if ord(a) > 127:\n",
    "            check+=1\n",
    "            \n",
    "    if check > 3:  # adding a threshold for emojis and other characters\n",
    "        return False\n",
    "    else:\n",
    "        return True\n",
    "    \n",
    "# test the function\n",
    "# eng_check('爱奇艺PPS -《欢乐颂2》电视剧热播')\n",
    "# eng_check('Instagram')\n",
    "# eng_check('Instachat 😜')\n",
    "eng_check('Docs To Go™ Free Office Suite')"
   ]
  },
  {
   "cell_type": "markdown",
   "metadata": {},
   "source": [
    "We can use the above function to loop through the dataset, append only the apps with English names to a new list."
   ]
  },
  {
   "cell_type": "code",
   "execution_count": 17,
   "metadata": {},
   "outputs": [],
   "source": [
    "google_english = []\n",
    "google_nonenglish = []\n",
    "apple_english = []\n",
    "apple_nonenglish = []\n",
    "\n",
    "for app in google_clean:\n",
    "    name = app[0]\n",
    "    if eng_check(name) == True:\n",
    "        google_english.append(app)\n",
    "    else:\n",
    "        google_nonenglish.append(app)\n",
    "\n",
    "for app in apple_ds:\n",
    "    name = app[1]\n",
    "    if eng_check(name) == True:\n",
    "        apple_english.append(app)\n",
    "    else:\n",
    "        apple_nonenglish.append(app)"
   ]
  },
  {
   "cell_type": "code",
   "execution_count": 18,
   "metadata": {},
   "outputs": [
    {
     "name": "stdout",
     "output_type": "stream",
     "text": [
      "9614\n",
      "45\n",
      "6183\n",
      "1014\n"
     ]
    }
   ],
   "source": [
    "# Check the lengths of each dataset - should add up to original 9659 apps\n",
    "print(len(google_english))\n",
    "print(len(google_nonenglish))\n",
    "print(len(apple_english))\n",
    "print(len(apple_nonenglish))"
   ]
  },
  {
   "cell_type": "code",
   "execution_count": 19,
   "metadata": {},
   "outputs": [
    {
     "name": "stdout",
     "output_type": "stream",
     "text": [
      "['Photo Editor & Candy Camera & Grid & ScrapBook', 'ART_AND_DESIGN', '4.1', '159', '19M', '10,000+', 'Free', '0', 'Everyone', 'Art & Design', 'January 7, 2018', '1.0.0', '4.0.3 and up']\n",
      "\n",
      "\n",
      "['U Launcher Lite – FREE Live Cool Themes, Hide Apps', 'ART_AND_DESIGN', '4.7', '87510', '8.7M', '5,000,000+', 'Free', '0', 'Everyone', 'Art & Design', 'August 1, 2018', '1.2.4', '4.0.3 and up']\n",
      "\n",
      "\n",
      "['Sketch - Draw & Paint', 'ART_AND_DESIGN', '4.5', '215644', '25M', '50,000,000+', 'Free', '0', 'Teen', 'Art & Design', 'June 8, 2018', 'Varies with device', '4.2 and up']\n",
      "\n",
      "\n",
      "['Pixel Draw - Number Art Coloring Book', 'ART_AND_DESIGN', '4.3', '967', '2.8M', '100,000+', 'Free', '0', 'Everyone', 'Art & Design;Creativity', 'June 20, 2018', '1.1', '4.4 and up']\n",
      "\n",
      "\n",
      "['Paper flowers instructions', 'ART_AND_DESIGN', '4.4', '167', '5.6M', '50,000+', 'Free', '0', 'Everyone', 'Art & Design', 'March 26, 2017', '1.0', '2.3 and up']\n",
      "\n",
      "\n",
      "Number of rows: 9614\n",
      "Number of columns: 13\n"
     ]
    }
   ],
   "source": [
    "explore_data(google_english, 0, 5, True)"
   ]
  },
  {
   "cell_type": "code",
   "execution_count": 20,
   "metadata": {},
   "outputs": [
    {
     "name": "stdout",
     "output_type": "stream",
     "text": [
      "['284882215', 'Facebook', '389879808', 'USD', '0.0', '2974676', '212', '3.5', '3.5', '95.0', '4+', 'Social Networking', '37', '1', '29', '1']\n",
      "\n",
      "\n",
      "['389801252', 'Instagram', '113954816', 'USD', '0.0', '2161558', '1289', '4.5', '4.0', '10.23', '12+', 'Photo & Video', '37', '0', '29', '1']\n",
      "\n",
      "\n",
      "['529479190', 'Clash of Clans', '116476928', 'USD', '0.0', '2130805', '579', '4.5', '4.5', '9.24.12', '9+', 'Games', '38', '5', '18', '1']\n",
      "\n",
      "\n",
      "['420009108', 'Temple Run', '65921024', 'USD', '0.0', '1724546', '3842', '4.5', '4.0', '1.6.2', '9+', 'Games', '40', '5', '1', '1']\n",
      "\n",
      "\n",
      "['284035177', 'Pandora - Music & Radio', '130242560', 'USD', '0.0', '1126879', '3594', '4.0', '4.5', '8.4.1', '12+', 'Music', '37', '4', '1', '1']\n",
      "\n",
      "\n",
      "Number of rows: 6183\n",
      "Number of columns: 16\n"
     ]
    }
   ],
   "source": [
    "explore_data(apple_english, 0, 5, True)"
   ]
  },
  {
   "cell_type": "markdown",
   "metadata": {},
   "source": [
    "## Removing paid apps\n",
    "\n",
    "Our analysis needs to include only free apps. We will have to loop through the data set once again and retain only free apps targeted to English speaking customers only."
   ]
  },
  {
   "cell_type": "code",
   "execution_count": 21,
   "metadata": {},
   "outputs": [],
   "source": [
    "google_eng_free = []\n",
    "google_eng_paid = []\n",
    "apple_eng_free = []\n",
    "apple_eng_paid = []\n",
    "\n",
    "for app in google_english:\n",
    "    price = app[7]\n",
    "    if price == '0':\n",
    "        google_eng_free.append(app)\n",
    "    else:\n",
    "        google_eng_paid.append(app)\n",
    "\n",
    "for app in apple_english:\n",
    "    price = app[4]\n",
    "    if price == '0.0':\n",
    "        apple_eng_free.append(app)\n",
    "    else:\n",
    "        apple_eng_paid.append(app)"
   ]
  },
  {
   "cell_type": "code",
   "execution_count": 22,
   "metadata": {},
   "outputs": [
    {
     "name": "stdout",
     "output_type": "stream",
     "text": [
      "8864\n",
      "750\n",
      "3222\n",
      "2961\n"
     ]
    }
   ],
   "source": [
    "# Check the lengths of each dataset - should add up to original 9614 english apps\n",
    "print(len(google_eng_free))\n",
    "print(len(google_eng_paid))\n",
    "print(len(apple_eng_free))\n",
    "print(len(apple_eng_paid))"
   ]
  },
  {
   "cell_type": "code",
   "execution_count": 23,
   "metadata": {},
   "outputs": [
    {
     "name": "stdout",
     "output_type": "stream",
     "text": [
      "['284882215', 'Facebook', '389879808', 'USD', '0.0', '2974676', '212', '3.5', '3.5', '95.0', '4+', 'Social Networking', '37', '1', '29', '1']\n",
      "\n",
      "\n",
      "['389801252', 'Instagram', '113954816', 'USD', '0.0', '2161558', '1289', '4.5', '4.0', '10.23', '12+', 'Photo & Video', '37', '0', '29', '1']\n",
      "\n",
      "\n",
      "['529479190', 'Clash of Clans', '116476928', 'USD', '0.0', '2130805', '579', '4.5', '4.5', '9.24.12', '9+', 'Games', '38', '5', '18', '1']\n",
      "\n",
      "\n",
      "['420009108', 'Temple Run', '65921024', 'USD', '0.0', '1724546', '3842', '4.5', '4.0', '1.6.2', '9+', 'Games', '40', '5', '1', '1']\n",
      "\n",
      "\n",
      "['284035177', 'Pandora - Music & Radio', '130242560', 'USD', '0.0', '1126879', '3594', '4.0', '4.5', '8.4.1', '12+', 'Music', '37', '4', '1', '1']\n",
      "\n",
      "\n",
      "Number of rows: 3222\n",
      "Number of columns: 16\n"
     ]
    }
   ],
   "source": [
    "explore_data(apple_eng_free, 0, 5, True)"
   ]
  },
  {
   "cell_type": "code",
   "execution_count": 24,
   "metadata": {},
   "outputs": [
    {
     "name": "stdout",
     "output_type": "stream",
     "text": [
      "['Photo Editor & Candy Camera & Grid & ScrapBook', 'ART_AND_DESIGN', '4.1', '159', '19M', '10,000+', 'Free', '0', 'Everyone', 'Art & Design', 'January 7, 2018', '1.0.0', '4.0.3 and up']\n",
      "\n",
      "\n",
      "['U Launcher Lite – FREE Live Cool Themes, Hide Apps', 'ART_AND_DESIGN', '4.7', '87510', '8.7M', '5,000,000+', 'Free', '0', 'Everyone', 'Art & Design', 'August 1, 2018', '1.2.4', '4.0.3 and up']\n",
      "\n",
      "\n",
      "['Sketch - Draw & Paint', 'ART_AND_DESIGN', '4.5', '215644', '25M', '50,000,000+', 'Free', '0', 'Teen', 'Art & Design', 'June 8, 2018', 'Varies with device', '4.2 and up']\n",
      "\n",
      "\n",
      "['Pixel Draw - Number Art Coloring Book', 'ART_AND_DESIGN', '4.3', '967', '2.8M', '100,000+', 'Free', '0', 'Everyone', 'Art & Design;Creativity', 'June 20, 2018', '1.1', '4.4 and up']\n",
      "\n",
      "\n",
      "['Paper flowers instructions', 'ART_AND_DESIGN', '4.4', '167', '5.6M', '50,000+', 'Free', '0', 'Everyone', 'Art & Design', 'March 26, 2017', '1.0', '2.3 and up']\n",
      "\n",
      "\n",
      "Number of rows: 8864\n",
      "Number of columns: 13\n"
     ]
    }
   ],
   "source": [
    "explore_data(google_eng_free, 0, 5, True)"
   ]
  },
  {
   "cell_type": "markdown",
   "metadata": {},
   "source": [
    "# Data Analysis\n",
    "\n",
    "## Problem Statement\n",
    "\n",
    "The objective of the analysis is to determine what kinds of apps are likely to attract more customers since ad revenue from free apps is highly dependent on the number of users using the app. Additionally, the validation strategy of an app idea is \n",
    "\n",
    "1. Release an app involves releasing a minimal version on Google Play store\n",
    "2. If the app has a good response from users, develop the app further\n",
    "3. If the app is profitable after 6 months, build iOS version and release it on App Store\n",
    "\n",
    "Given this strategy, it becomes important to understand what apps have been popular across both markets. Given this strategy, it becomes important to understand what apps have been popular across both markets.\n",
    "\n",
    "## Most common apps by Genre\n",
    "\n",
    "We're going to create a couple function to help us build frequency tables using the Google and Apple datasets."
   ]
  },
  {
   "cell_type": "code",
   "execution_count": 25,
   "metadata": {},
   "outputs": [],
   "source": [
    "# This function creates a frequency table using a given dataset, and a column of interest\n",
    "def freq_table(dataset, index):\n",
    "    freq = {}\n",
    "    total = 0\n",
    "    for app in dataset:\n",
    "        total += 1\n",
    "        value = app[index]\n",
    "        if value in freq:\n",
    "            freq[value] += 1\n",
    "        else:\n",
    "            freq[value] = 1\n",
    "    \n",
    "    freq_pct = {}\n",
    "    for app in freq:\n",
    "        freq_pct[app] = round((freq[app]/total)*100, 2)\n",
    "    \n",
    "    return freq_pct\n",
    "    \n",
    "# This function 1) takes in a dataset, and an index for a column as an input\n",
    "# 2) builds a frequency table using the freq_table function\n",
    "# 3) displays the table in a descending order of frequenct\n",
    "def display_table(dataset, index):\n",
    "    table = freq_table(dataset, index)\n",
    "    table_display = []\n",
    "    for key in table:\n",
    "        key_val_as_tuple = (table[key], key)\n",
    "        table_display.append(key_val_as_tuple)\n",
    "\n",
    "    table_sorted = sorted(table_display, reverse = True)\n",
    "    for entry in table_sorted:\n",
    "        print(entry[1], ':', entry[0])"
   ]
  },
  {
   "cell_type": "markdown",
   "metadata": {},
   "source": [
    "Let's run the above function on the Apple dataset for free English apps."
   ]
  },
  {
   "cell_type": "code",
   "execution_count": 26,
   "metadata": {},
   "outputs": [
    {
     "name": "stdout",
     "output_type": "stream",
     "text": [
      "Games : 58.16\n",
      "Entertainment : 7.88\n",
      "Photo & Video : 4.97\n",
      "Education : 3.66\n",
      "Social Networking : 3.29\n",
      "Shopping : 2.61\n",
      "Utilities : 2.51\n",
      "Sports : 2.14\n",
      "Music : 2.05\n",
      "Health & Fitness : 2.02\n",
      "Productivity : 1.74\n",
      "Lifestyle : 1.58\n",
      "News : 1.33\n",
      "Travel : 1.24\n",
      "Finance : 1.12\n",
      "Weather : 0.87\n",
      "Food & Drink : 0.81\n",
      "Reference : 0.56\n",
      "Business : 0.53\n",
      "Book : 0.43\n",
      "Navigation : 0.19\n",
      "Medical : 0.19\n",
      "Catalogs : 0.12\n"
     ]
    }
   ],
   "source": [
    "display_table(apple_eng_free, 11) # Prime Genre (Apple)"
   ]
  },
  {
   "cell_type": "markdown",
   "metadata": {},
   "source": [
    "We can see that Games are the most common free English apps available from the Apple Store accounting for 58% of the population. The second-most common genre is Entertainment. The most common apps in this population are designed for entertainment purposes. Games, Entertainment, Photo & Video, Social Networking, Sports, and Music cover ~80% of the population. The apps designed for Practical purposes (for example, Lifestyle, Shopping, Weather) account for a much smaller portion of the available apps - often less 2-3%.\n",
    "\n",
    "Note that these are just the apps that are available in the store, and does not account if these genres have a large number of users. This alone is not enough information to determine the app profile recommendation for the Ap Store market. We would have to combine this data with the number of users, and the average user rating as well for better results.\n",
    "\n",
    "Let's look at the Category and Genre details for the Google dataset next."
   ]
  },
  {
   "cell_type": "code",
   "execution_count": 27,
   "metadata": {},
   "outputs": [
    {
     "name": "stdout",
     "output_type": "stream",
     "text": [
      "FAMILY : 18.91\n",
      "GAME : 9.72\n",
      "TOOLS : 8.46\n",
      "BUSINESS : 4.59\n",
      "LIFESTYLE : 3.9\n",
      "PRODUCTIVITY : 3.89\n",
      "FINANCE : 3.7\n",
      "MEDICAL : 3.53\n",
      "SPORTS : 3.4\n",
      "PERSONALIZATION : 3.32\n",
      "COMMUNICATION : 3.24\n",
      "HEALTH_AND_FITNESS : 3.08\n",
      "PHOTOGRAPHY : 2.94\n",
      "NEWS_AND_MAGAZINES : 2.8\n",
      "SOCIAL : 2.66\n",
      "TRAVEL_AND_LOCAL : 2.34\n",
      "SHOPPING : 2.25\n",
      "BOOKS_AND_REFERENCE : 2.14\n",
      "DATING : 1.86\n",
      "VIDEO_PLAYERS : 1.79\n",
      "MAPS_AND_NAVIGATION : 1.4\n",
      "FOOD_AND_DRINK : 1.24\n",
      "EDUCATION : 1.16\n",
      "ENTERTAINMENT : 0.96\n",
      "LIBRARIES_AND_DEMO : 0.94\n",
      "AUTO_AND_VEHICLES : 0.93\n",
      "HOUSE_AND_HOME : 0.82\n",
      "WEATHER : 0.8\n",
      "EVENTS : 0.71\n",
      "PARENTING : 0.65\n",
      "ART_AND_DESIGN : 0.64\n",
      "COMICS : 0.62\n",
      "BEAUTY : 0.6\n"
     ]
    }
   ],
   "source": [
    "display_table(google_eng_free, 1) # Category (Google)"
   ]
  },
  {
   "cell_type": "markdown",
   "metadata": {},
   "source": [
    "We can see that the largest percentage of the apps in the Google play store is ~19% for Family. As per the Google Play store, the category of Family also includes Games. [Note: this is no longer the case. The category \"Family\" no longer exists in the Google Play Store.]\n",
    "\n",
    "Even so, the remaining categories have a decent representation compared to the Apple Store data. Apps designed for fun account for ~30% of the population. The landscape is far more balanced. "
   ]
  },
  {
   "cell_type": "code",
   "execution_count": 28,
   "metadata": {},
   "outputs": [
    {
     "name": "stdout",
     "output_type": "stream",
     "text": [
      "Tools : 8.45\n",
      "Entertainment : 6.07\n",
      "Education : 5.35\n",
      "Business : 4.59\n",
      "Productivity : 3.89\n",
      "Lifestyle : 3.89\n",
      "Finance : 3.7\n",
      "Medical : 3.53\n",
      "Sports : 3.46\n",
      "Personalization : 3.32\n",
      "Communication : 3.24\n",
      "Action : 3.1\n",
      "Health & Fitness : 3.08\n",
      "Photography : 2.94\n",
      "News & Magazines : 2.8\n",
      "Social : 2.66\n",
      "Travel & Local : 2.32\n",
      "Shopping : 2.25\n",
      "Books & Reference : 2.14\n",
      "Simulation : 2.04\n",
      "Dating : 1.86\n",
      "Arcade : 1.85\n",
      "Video Players & Editors : 1.77\n",
      "Casual : 1.76\n",
      "Maps & Navigation : 1.4\n",
      "Food & Drink : 1.24\n",
      "Puzzle : 1.13\n",
      "Racing : 0.99\n",
      "Role Playing : 0.94\n",
      "Libraries & Demo : 0.94\n",
      "Auto & Vehicles : 0.93\n",
      "Strategy : 0.91\n",
      "House & Home : 0.82\n",
      "Weather : 0.8\n",
      "Events : 0.71\n",
      "Adventure : 0.68\n",
      "Comics : 0.61\n",
      "Beauty : 0.6\n",
      "Art & Design : 0.6\n",
      "Parenting : 0.5\n",
      "Card : 0.45\n",
      "Casino : 0.43\n",
      "Trivia : 0.42\n",
      "Educational;Education : 0.39\n",
      "Board : 0.38\n",
      "Educational : 0.37\n",
      "Education;Education : 0.34\n",
      "Word : 0.26\n",
      "Casual;Pretend Play : 0.24\n",
      "Music : 0.2\n",
      "Racing;Action & Adventure : 0.17\n",
      "Puzzle;Brain Games : 0.17\n",
      "Entertainment;Music & Video : 0.17\n",
      "Casual;Brain Games : 0.14\n",
      "Casual;Action & Adventure : 0.14\n",
      "Arcade;Action & Adventure : 0.12\n",
      "Action;Action & Adventure : 0.1\n",
      "Educational;Pretend Play : 0.09\n",
      "Simulation;Action & Adventure : 0.08\n",
      "Parenting;Education : 0.08\n",
      "Entertainment;Brain Games : 0.08\n",
      "Board;Brain Games : 0.08\n",
      "Parenting;Music & Video : 0.07\n",
      "Educational;Brain Games : 0.07\n",
      "Casual;Creativity : 0.07\n",
      "Art & Design;Creativity : 0.07\n",
      "Education;Pretend Play : 0.06\n",
      "Role Playing;Pretend Play : 0.05\n",
      "Education;Creativity : 0.05\n",
      "Role Playing;Action & Adventure : 0.03\n",
      "Puzzle;Action & Adventure : 0.03\n",
      "Entertainment;Creativity : 0.03\n",
      "Entertainment;Action & Adventure : 0.03\n",
      "Educational;Creativity : 0.03\n",
      "Educational;Action & Adventure : 0.03\n",
      "Education;Music & Video : 0.03\n",
      "Education;Brain Games : 0.03\n",
      "Education;Action & Adventure : 0.03\n",
      "Adventure;Action & Adventure : 0.03\n",
      "Video Players & Editors;Music & Video : 0.02\n",
      "Sports;Action & Adventure : 0.02\n",
      "Simulation;Pretend Play : 0.02\n",
      "Puzzle;Creativity : 0.02\n",
      "Music;Music & Video : 0.02\n",
      "Entertainment;Pretend Play : 0.02\n",
      "Casual;Education : 0.02\n",
      "Board;Action & Adventure : 0.02\n",
      "Video Players & Editors;Creativity : 0.01\n",
      "Trivia;Education : 0.01\n",
      "Travel & Local;Action & Adventure : 0.01\n",
      "Tools;Education : 0.01\n",
      "Strategy;Education : 0.01\n",
      "Strategy;Creativity : 0.01\n",
      "Strategy;Action & Adventure : 0.01\n",
      "Simulation;Education : 0.01\n",
      "Role Playing;Brain Games : 0.01\n",
      "Racing;Pretend Play : 0.01\n",
      "Puzzle;Education : 0.01\n",
      "Parenting;Brain Games : 0.01\n",
      "Music & Audio;Music & Video : 0.01\n",
      "Lifestyle;Pretend Play : 0.01\n",
      "Lifestyle;Education : 0.01\n",
      "Health & Fitness;Education : 0.01\n",
      "Health & Fitness;Action & Adventure : 0.01\n",
      "Entertainment;Education : 0.01\n",
      "Communication;Creativity : 0.01\n",
      "Comics;Creativity : 0.01\n",
      "Casual;Music & Video : 0.01\n",
      "Card;Action & Adventure : 0.01\n",
      "Books & Reference;Education : 0.01\n",
      "Art & Design;Pretend Play : 0.01\n",
      "Art & Design;Action & Adventure : 0.01\n",
      "Arcade;Pretend Play : 0.01\n",
      "Adventure;Education : 0.01\n"
     ]
    }
   ],
   "source": [
    "display_table(google_eng_free, 9) # Genre (Google)"
   ]
  },
  {
   "cell_type": "markdown",
   "metadata": {},
   "source": [
    "This is further confirmed byt the Genre data. The Genre information appears to be a more granular look at the apps compared to the Category data, with a portion of the apps having multiple genres (for example, \"Lifestyle; Education\" or \"Health & Fitness ; Action & Adventure\".)\n",
    "\n",
    "Again - this is not enough information to decide a recommendation. This merely tells us what are the apps currently availble in the store, and not how many users we have for each genre.\n",
    "\n",
    "## Category of Apps with Most Users\n",
    "\n",
    "To determine which category of apps are the most popular among users, we'd want to find the average number of installs per category. For this we have the 'Installs' column in the Google dataset. We do not have a similar datapoint in the Apple dataset. We could use the 'rating_count_tot' datapoint as a workaround. This is the total number of user ratings, and we'll be making the assumption that the users that installed the app rated the app as well.\n",
    "\n",
    "Let's start with the Apple Store data, and generate a unique list of genres."
   ]
  },
  {
   "cell_type": "code",
   "execution_count": 29,
   "metadata": {},
   "outputs": [
    {
     "name": "stdout",
     "output_type": "stream",
     "text": [
      "Social Networking :  71548.35\n",
      "Photo & Video :  28441.54\n",
      "Games :  22788.67\n",
      "Music :  57326.53\n",
      "Reference :  74942.11\n",
      "Health & Fitness :  23298.02\n",
      "Weather :  52279.89\n",
      "Utilities :  18684.46\n",
      "Travel :  28243.8\n",
      "Shopping :  26919.69\n",
      "News :  21248.02\n",
      "Navigation :  86090.33\n",
      "Lifestyle :  16485.76\n",
      "Entertainment :  14029.83\n",
      "Food & Drink :  33333.92\n",
      "Sports :  23008.9\n",
      "Book :  39758.5\n",
      "Finance :  31467.94\n",
      "Education :  7003.98\n",
      "Productivity :  21028.41\n",
      "Business :  7491.12\n",
      "Catalogs :  4004.0\n",
      "Medical :  612.0\n"
     ]
    }
   ],
   "source": [
    "apple_freq_table = freq_table(apple_eng_free, 11)\n",
    "\n",
    "for genre in apple_freq_table:\n",
    "    total = 0\n",
    "    len_genre = 0\n",
    "    for app in apple_eng_free:\n",
    "        genre_app = app[11]\n",
    "        if genre_app == genre:\n",
    "            ratings_ct = float(app[5])\n",
    "            total += ratings_ct\n",
    "            len_genre += 1\n",
    "    avg_num_ratings = round(total / len_genre, 2)\n",
    "    print(genre, ': ', avg_num_ratings)    "
   ]
  },
  {
   "cell_type": "markdown",
   "metadata": {},
   "source": [
    "Navigation (86k) > Reference (75k) > Social Networking (71k) >  > Music (57k) > Weather (52k) > \n",
    "Book (39k) > Food & Drink (33k) > Finance (31k)\n",
    "\n",
    "Free Navigation apps have the highest number of average users, followed by Reference and Social Networking apps. Navigation and Social Networking apps have key players already, and building a new app would need to have a major differentiator to compete. "
   ]
  },
  {
   "cell_type": "code",
   "execution_count": 30,
   "metadata": {},
   "outputs": [
    {
     "name": "stdout",
     "output_type": "stream",
     "text": [
      "Waze - GPS Navigation, Maps & Real-time Traffic :  345046\n",
      "Google Maps - Navigation & Transit :  154911\n",
      "Geocaching® :  12811\n",
      "CoPilot GPS – Car Navigation & Offline Maps :  3582\n",
      "ImmobilienScout24: Real Estate Search in Germany :  187\n",
      "Railway Route Search :  5\n"
     ]
    }
   ],
   "source": [
    "for app in apple_eng_free:\n",
    "    genre = app[11]\n",
    "    if genre == 'Navigation':\n",
    "        print(app[1], ': ', app[5])"
   ]
  },
  {
   "cell_type": "code",
   "execution_count": 31,
   "metadata": {},
   "outputs": [
    {
     "name": "stdout",
     "output_type": "stream",
     "text": [
      "Facebook :  2974676\n",
      "Pinterest :  1061624\n",
      "Skype for iPhone :  373519\n",
      "Messenger :  351466\n",
      "Tumblr :  334293\n",
      "WhatsApp Messenger :  287589\n",
      "Kik :  260965\n",
      "ooVoo – Free Video Call, Text and Voice :  177501\n",
      "TextNow - Unlimited Text + Calls :  164963\n",
      "Viber Messenger – Text & Call :  164249\n",
      "Followers - Social Analytics For Instagram :  112778\n",
      "MeetMe - Chat and Meet New People :  97072\n",
      "We Heart It - Fashion, wallpapers, quotes, tattoos :  90414\n",
      "InsTrack for Instagram - Analytics Plus More :  85535\n",
      "Tango - Free Video Call, Voice and Chat :  75412\n",
      "LinkedIn :  71856\n",
      "Match™ - #1 Dating App. :  60659\n",
      "Skype for iPad :  60163\n",
      "POF - Best Dating App for Conversations :  52642\n",
      "Timehop :  49510\n",
      "Find My Family, Friends & iPhone - Life360 Locator :  43877\n",
      "Whisper - Share, Express, Meet :  39819\n",
      "Hangouts :  36404\n",
      "LINE PLAY - Your Avatar World :  34677\n",
      "WeChat :  34584\n",
      "Badoo - Meet New People, Chat, Socialize. :  34428\n",
      "Followers + for Instagram - Follower Analytics :  28633\n",
      "GroupMe :  28260\n",
      "Marco Polo Video Walkie Talkie :  27662\n",
      "Miitomo :  23965\n",
      "SimSimi :  23530\n",
      "Grindr - Gay and same sex guys chat, meet and date :  23201\n",
      "Wishbone - Compare Anything :  20649\n",
      "imo video calls and chat :  18841\n",
      "After School - Funny Anonymous School News :  18482\n",
      "Quick Reposter - Repost, Regram and Reshare Photos :  17694\n",
      "Weibo HD :  16772\n",
      "Repost for Instagram :  15185\n",
      "Live.me – Live Video Chat & Make Friends Nearby :  14724\n",
      "Nextdoor :  14402\n",
      "Followers Analytics for Instagram - InstaReport :  13914\n",
      "YouNow: Live Stream Video Chat :  12079\n",
      "FollowMeter for Instagram - Followers Tracking :  11976\n",
      "LINE :  11437\n",
      "eHarmony™ Dating App - Meet Singles :  11124\n",
      "Discord - Chat for Gamers :  9152\n",
      "QQ :  9109\n",
      "Telegram Messenger :  7573\n",
      "Weibo :  7265\n",
      "Periscope - Live Video Streaming Around the World :  6062\n",
      "Chat for Whatsapp - iPad Version :  5060\n",
      "QQ HD :  5058\n",
      "Followers Analysis Tool For Instagram App Free :  4253\n",
      "live.ly - live video streaming :  4145\n",
      "Houseparty - Group Video Chat :  3991\n",
      "SOMA Messenger :  3232\n",
      "Monkey :  3060\n",
      "Down To Lunch :  2535\n",
      "Flinch - Video Chat Staring Contest :  2134\n",
      "Highrise - Your Avatar Community :  2011\n",
      "LOVOO - Dating Chat :  1985\n",
      "PlayStation®Messages :  1918\n",
      "BOO! - Video chat camera with filters & stickers :  1805\n",
      "Qzone :  1649\n",
      "Chatous - Chat with new people :  1609\n",
      "Kiwi - Q&A :  1538\n",
      "GhostCodes - a discovery app for Snapchat :  1313\n",
      "Jodel :  1193\n",
      "FireChat :  1037\n",
      "Google Duo - simple video calling :  1033\n",
      "Fiesta by Tango - Chat & Meet New People :  885\n",
      "Google Allo — smart messaging :  862\n",
      "Peach — share vividly :  727\n",
      "Hey! VINA - Where Women Meet New Friends :  719\n",
      "Battlefield™ Companion :  689\n",
      "All Devices for WhatsApp - Messenger for iPad :  682\n",
      "Chat for Pokemon Go - GoChat :  500\n",
      "IAmNaughty – Dating App to Meet New People Online :  463\n",
      "Qzone HD :  458\n",
      "Zenly - Locate your friends in realtime :  427\n",
      "League of Legends Friends :  420\n",
      "豆瓣 :  407\n",
      "Candid - Speak Your Mind Freely :  398\n",
      "知乎 :  397\n",
      "Selfeo :  366\n",
      "Fake-A-Location Free ™ :  354\n",
      "Popcorn Buzz - Free Group Calls :  281\n",
      "Fam — Group video calling for iMessage :  279\n",
      "QQ International :  274\n",
      "Ameba :  269\n",
      "SoundCloud Pulse: for creators :  240\n",
      "Tantan :  235\n",
      "Cougar Dating & Life Style App for Mature Women :  213\n",
      "Rawr Messenger - Dab your chat :  180\n",
      "WhenToPost: Best Time to Post Photos for Instagram :  158\n",
      "Inke—Broadcast an amazing life :  147\n",
      "Mustknow - anonymous video Q&A :  53\n",
      "CTFxCmoji :  39\n",
      "Lobi :  36\n",
      "Chain: Collaborate On MyVideo Story/Group Video :  35\n",
      "botman - Real time video chat :  7\n",
      "BestieBox :  0\n",
      "MATCH ON LINE chat :  0\n",
      "niconico ch :  0\n",
      "LINE BLOG :  0\n",
      "bit-tube - Live Stream Video Chat :  0\n"
     ]
    }
   ],
   "source": [
    "for app in apple_eng_free:\n",
    "    genre = app[11]\n",
    "    if genre == 'Social Networking':\n",
    "        print(app[1], ': ', app[5])"
   ]
  },
  {
   "cell_type": "markdown",
   "metadata": {},
   "source": [
    "As we can see from above, 2 Navigation apps (Waze and Google Maps) currently dominate the user base, and it would be a hard market to enter. There are several key players already in the Social Networking space (Facebook and Pinterest being the key leaders)."
   ]
  },
  {
   "cell_type": "code",
   "execution_count": 32,
   "metadata": {},
   "outputs": [
    {
     "name": "stdout",
     "output_type": "stream",
     "text": [
      "Bible :  985920\n",
      "Dictionary.com Dictionary & Thesaurus :  200047\n",
      "Dictionary.com Dictionary & Thesaurus for iPad :  54175\n",
      "Google Translate :  26786\n",
      "Muslim Pro: Ramadan 2017 Prayer Times, Azan, Quran :  18418\n",
      "New Furniture Mods - Pocket Wiki & Game Tools for Minecraft PC Edition :  17588\n",
      "Merriam-Webster Dictionary :  16849\n",
      "Night Sky :  12122\n",
      "City Maps for Minecraft PE - The Best Maps for Minecraft Pocket Edition (MCPE) :  8535\n",
      "LUCKY BLOCK MOD ™ for Minecraft PC Edition - The Best Pocket Wiki & Mods Installer Tools :  4693\n",
      "GUNS MODS for Minecraft PC Edition - Mods Tools :  1497\n",
      "Guides for Pokémon GO - Pokemon GO News and Cheats :  826\n",
      "WWDC :  762\n",
      "Horror Maps for Minecraft PE - Download The Scariest Maps for Minecraft Pocket Edition (MCPE) Free :  718\n",
      "VPN Express :  14\n",
      "Real Bike Traffic Rider Virtual Reality Glasses :  8\n",
      "教えて!goo :  0\n",
      "Jishokun-Japanese English Dictionary & Translator :  0\n"
     ]
    }
   ],
   "source": [
    "for app in apple_eng_free:\n",
    "    genre = app[11]\n",
    "    if genre == 'Reference':\n",
    "        print(app[1], ': ', app[5])"
   ]
  },
  {
   "cell_type": "code",
   "execution_count": 33,
   "metadata": {},
   "outputs": [
    {
     "name": "stdout",
     "output_type": "stream",
     "text": [
      "Chase Mobile℠ :  233270\n",
      "Mint: Personal Finance, Budget, Bills & Money :  232940\n",
      "Bank of America - Mobile Banking :  119773\n",
      "PayPal - Send and request money safely :  119487\n",
      "Credit Karma: Free Credit Scores, Reports & Alerts :  101679\n",
      "Capital One Mobile :  56110\n",
      "Citi Mobile® :  48822\n",
      "Wells Fargo Mobile :  43064\n",
      "Chase Mobile :  34322\n",
      "Square Cash - Send Money for Free :  23775\n",
      "Capital One for iPad :  21858\n",
      "Venmo :  21090\n",
      "USAA Mobile :  19946\n",
      "TaxCaster – Free tax refund calculator :  17516\n",
      "Amex Mobile :  11421\n",
      "TurboTax Tax Return App - File 2016 income taxes :  9635\n",
      "Bank of America - Mobile Banking for iPad :  7569\n",
      "Wells Fargo for iPad :  2207\n",
      "Stash Invest: Investing & Financial Education :  1655\n",
      "Digit: Save Money Without Thinking About It :  1506\n",
      "IRS2Go :  1329\n",
      "Capital One CreditWise - Credit score and report :  1019\n",
      "U by BB&T :  790\n",
      "Paribus - Rebates When Prices Drop :  768\n",
      "KeyBank Mobile :  623\n",
      "VyStar Mobile Banking for iPhone :  434\n",
      "Sparkasse - Your mobile branch :  77\n",
      "VyStar Mobile Banking for iPad :  57\n",
      "Zaim :  44\n",
      "Ma Banque :  17\n",
      "Lloyds Bank Mobile Banking :  17\n",
      "Suica :  10\n",
      "Halifax Mobile Banking :  8\n",
      "La Banque Postale :  8\n",
      "币优铺 :  0\n",
      "Impots.gouv :  0\n"
     ]
    }
   ],
   "source": [
    "for app in apple_eng_free:\n",
    "    genre = app[11]\n",
    "    if genre == 'Finance':\n",
    "        print(app[1], ': ', app[5])"
   ]
  },
  {
   "cell_type": "markdown",
   "metadata": {},
   "source": [
    "Looking into the Reference apps, we see that these are largely books or manuals converted to an app format. The Finance category is also one of the Top 10 categories. Specifically, a Reference app targeting Finance / Personal Budgeting could be an option to pursue.\n",
    "\n",
    "We can next review the Google dataset. We see that we have the \"installs\" column in the dataset. However, this is a text field, and provides just ranges for the number of downloads. "
   ]
  },
  {
   "cell_type": "code",
   "execution_count": 34,
   "metadata": {},
   "outputs": [
    {
     "data": {
      "text/plain": [
       "{'10,000+': 10.2,\n",
       " '5,000,000+': 6.83,\n",
       " '50,000,000+': 2.3,\n",
       " '100,000+': 11.55,\n",
       " '50,000+': 4.77,\n",
       " '1,000,000+': 15.73,\n",
       " '10,000,000+': 10.55,\n",
       " '5,000+': 4.51,\n",
       " '500,000+': 5.56,\n",
       " '1,000,000,000+': 0.23,\n",
       " '100,000,000+': 2.13,\n",
       " '1,000+': 8.39,\n",
       " '500,000,000+': 0.27,\n",
       " '500+': 3.25,\n",
       " '100+': 6.92,\n",
       " '50+': 1.92,\n",
       " '10+': 3.54,\n",
       " '1+': 0.51,\n",
       " '5+': 0.79,\n",
       " '0+': 0.05,\n",
       " '0': 0.01}"
      ]
     },
     "execution_count": 34,
     "metadata": {},
     "output_type": "execute_result"
    }
   ],
   "source": [
    "freq_table(google_eng_free, 5)"
   ]
  },
  {
   "cell_type": "markdown",
   "metadata": {},
   "source": [
    "For example, an app could have \"100,000+\" downloads, with no specificity. This is fine since this still gives us an idea of the most popular categories based on the number. We first need to remove the \"+\" and \",\" to be able to estimate the average."
   ]
  },
  {
   "cell_type": "code",
   "execution_count": 35,
   "metadata": {},
   "outputs": [
    {
     "name": "stdout",
     "output_type": "stream",
     "text": [
      "ART_AND_DESIGN :  1986335.09\n",
      "AUTO_AND_VEHICLES :  647317.82\n",
      "BEAUTY :  513151.89\n",
      "BOOKS_AND_REFERENCE :  8767811.89\n",
      "BUSINESS :  1712290.15\n",
      "COMICS :  817657.27\n",
      "COMMUNICATION :  38456119.17\n",
      "DATING :  854028.83\n",
      "EDUCATION :  1833495.15\n",
      "ENTERTAINMENT :  11640705.88\n",
      "EVENTS :  253542.22\n",
      "FINANCE :  1387692.48\n",
      "FOOD_AND_DRINK :  1924897.74\n",
      "HEALTH_AND_FITNESS :  4188821.99\n",
      "HOUSE_AND_HOME :  1331540.56\n",
      "LIBRARIES_AND_DEMO :  638503.73\n",
      "LIFESTYLE :  1437816.27\n",
      "GAME :  15588015.6\n",
      "FAMILY :  3695641.82\n",
      "MEDICAL :  120550.62\n",
      "SOCIAL :  23253652.13\n",
      "SHOPPING :  7036877.31\n",
      "PHOTOGRAPHY :  17840110.4\n",
      "SPORTS :  3638640.14\n",
      "TRAVEL_AND_LOCAL :  13984077.71\n",
      "TOOLS :  10801391.3\n",
      "PERSONALIZATION :  5201482.61\n",
      "PRODUCTIVITY :  16787331.34\n",
      "PARENTING :  542603.62\n",
      "WEATHER :  5074486.2\n",
      "VIDEO_PLAYERS :  24727872.45\n",
      "NEWS_AND_MAGAZINES :  9549178.47\n",
      "MAPS_AND_NAVIGATION :  4056941.77\n"
     ]
    }
   ],
   "source": [
    "# Create a distinct list of categories in the Google dataset\n",
    "google_freq_table = freq_table(google_eng_free, 1)\n",
    "\n",
    "for category in google_freq_table:\n",
    "    total = 0\n",
    "    len_category = 0\n",
    "    for app in google_eng_free:\n",
    "        category_app = app[1]\n",
    "        if category_app == category:\n",
    "            n_installs = app[5]\n",
    "            n_installs = n_installs.replace('+', '')\n",
    "            n_installs = n_installs.replace(',', '')\n",
    "            total += float(n_installs)\n",
    "            len_category += 1\n",
    "    avg_installs = round(total / len_category, 2)\n",
    "    print(category, ': ', avg_installs)"
   ]
  },
  {
   "cell_type": "markdown",
   "metadata": {},
   "source": [
    "The Communication and Video Player categories have the highest number of installs, but similar to the apple store, are likely to be dominated by a handful of players. "
   ]
  },
  {
   "cell_type": "code",
   "execution_count": 36,
   "metadata": {},
   "outputs": [
    {
     "name": "stdout",
     "output_type": "stream",
     "text": [
      "WhatsApp Messenger :  1,000,000,000+\n",
      "Google Duo - High Quality Video Calls :  500,000,000+\n",
      "Messenger – Text and Video Chat for Free :  1,000,000,000+\n",
      "imo free video calls and chat :  500,000,000+\n",
      "Skype - free IM & video calls :  1,000,000,000+\n",
      "LINE: Free Calls & Messages :  500,000,000+\n",
      "Google Chrome: Fast & Secure :  1,000,000,000+\n",
      "UC Browser - Fast Download Private & Secure :  500,000,000+\n",
      "Gmail :  1,000,000,000+\n",
      "Hangouts :  1,000,000,000+\n",
      "Viber Messenger :  500,000,000+\n"
     ]
    }
   ],
   "source": [
    "for app in google_eng_free:\n",
    "    category = app[1]\n",
    "    n_installs = app[5]\n",
    "    n_installs = n_installs.replace('+', '')\n",
    "    n_installs = float(n_installs.replace(',', ''))\n",
    "    if category == 'COMMUNICATION' and (n_installs >= 500000000):\n",
    "        print(app[0], ': ', app[5])"
   ]
  },
  {
   "cell_type": "code",
   "execution_count": 37,
   "metadata": {},
   "outputs": [
    {
     "name": "stdout",
     "output_type": "stream",
     "text": [
      "YouTube :  1,000,000,000+\n",
      "Google Play Movies & TV :  1,000,000,000+\n",
      "MX Player :  500,000,000+\n"
     ]
    }
   ],
   "source": [
    "for app in google_eng_free:\n",
    "    category = app[1]\n",
    "    n_installs = app[5]\n",
    "    n_installs = n_installs.replace('+', '')\n",
    "    n_installs = float(n_installs.replace(',', ''))\n",
    "    if category == 'VIDEO_PLAYERS' and (n_installs >= 500000000):\n",
    "        print(app[0], ': ', app[5])"
   ]
  },
  {
   "cell_type": "markdown",
   "metadata": {},
   "source": [
    "We can see based on the above that 11, and 3 apps dominate the Communication, and Video Players categories, respectively, with each app accounting for greater than half a billion installs each. These would not be good recommendations, as it would be extremely difficult to enter these markets.\n",
    "\n",
    "If we compare to the Apple Store data, Google Play appears to categorize the \"Book\" and \"Reference\" categories into one."
   ]
  },
  {
   "cell_type": "code",
   "execution_count": 38,
   "metadata": {},
   "outputs": [
    {
     "name": "stdout",
     "output_type": "stream",
     "text": [
      "Wikipedia :  10,000,000+\n",
      "Cool Reader :  10,000,000+\n",
      "Book store :  1,000,000+\n",
      "FBReader: Favorite Book Reader :  10,000,000+\n",
      "Free Books - Spirit Fanfiction and Stories :  1,000,000+\n",
      "Google Play Books :  1,000,000,000+\n",
      "AlReader -any text book reader :  5,000,000+\n",
      "FamilySearch Tree :  1,000,000+\n",
      "Cloud of Books :  1,000,000+\n",
      "ReadEra – free ebook reader :  1,000,000+\n",
      "Ebook Reader :  5,000,000+\n",
      "Read books online :  5,000,000+\n",
      "eBoox: book reader fb2 epub zip :  1,000,000+\n",
      "All Maths Formulas :  1,000,000+\n",
      "Ancestry :  5,000,000+\n",
      "HTC Help :  10,000,000+\n",
      "Moon+ Reader :  10,000,000+\n",
      "English-Myanmar Dictionary :  1,000,000+\n",
      "Golden Dictionary (EN-AR) :  1,000,000+\n",
      "All Language Translator Free :  1,000,000+\n",
      "Bible :  100,000,000+\n",
      "Amazon Kindle :  100,000,000+\n",
      "Aldiko Book Reader :  10,000,000+\n",
      "Wattpad 📖 Free Books :  100,000,000+\n",
      "Dictionary - WordWeb :  5,000,000+\n",
      "50000 Free eBooks & Free AudioBooks :  5,000,000+\n",
      "Al-Quran (Free) :  10,000,000+\n",
      "Al Quran Indonesia :  10,000,000+\n",
      "Al'Quran Bahasa Indonesia :  10,000,000+\n",
      "Al Quran Al karim :  1,000,000+\n",
      "Al Quran : EAlim - Translations & MP3 Offline :  5,000,000+\n",
      "Koran Read &MP3 30 Juz Offline :  1,000,000+\n",
      "Hafizi Quran 15 lines per page :  1,000,000+\n",
      "Quran for Android :  10,000,000+\n",
      "Satellite AR :  1,000,000+\n",
      "Audiobooks from Audible :  100,000,000+\n",
      "Oxford A-Z of English Usage :  1,000,000+\n",
      "Dictionary.com: Find Definitions for English Words :  10,000,000+\n",
      "English Dictionary - Offline :  10,000,000+\n",
      "Bible KJV :  5,000,000+\n",
      "NOOK: Read eBooks & Magazines :  10,000,000+\n",
      "Brilliant Quotes: Life, Love, Family & Motivation :  1,000,000+\n",
      "Stats Royale for Clash Royale :  1,000,000+\n",
      "Dictionary :  10,000,000+\n",
      "wikiHow: how to do anything :  1,000,000+\n",
      "EGW Writings :  1,000,000+\n",
      "My Little Pony AR Guide :  1,000,000+\n",
      "Spanish English Translator :  10,000,000+\n",
      "Dictionary - Merriam-Webster :  10,000,000+\n",
      "JW Library :  10,000,000+\n",
      "Oxford Dictionary of English : Free :  10,000,000+\n",
      "English Hindi Dictionary :  10,000,000+\n",
      "English to Hindi Dictionary :  5,000,000+\n"
     ]
    }
   ],
   "source": [
    "for app in google_eng_free:\n",
    "    category = app[1]\n",
    "    n_installs = app[5]\n",
    "    n_installs = n_installs.replace('+', '')\n",
    "    n_installs = float(n_installs.replace(',', ''))\n",
    "    if category == 'BOOKS_AND_REFERENCE' and (n_installs >= 1000000):\n",
    "        print(app[0], ': ', app[5])"
   ]
  },
  {
   "cell_type": "markdown",
   "metadata": {},
   "source": [
    "Again, similar to the Apple Store data, we see that the books and reference apps are essentially large books that are in the format of an app. These include religious books, and dictionaries."
   ]
  },
  {
   "cell_type": "markdown",
   "metadata": {},
   "source": [
    "# Conclusion\n",
    "\n",
    "Our objective was to analyze the app data from both the Google Play Store and the Apple App Store to provide a recommendation for a free app that could be a source of significant ad revenue. Through the process, we understood  which category of apps are the most downloaded on average. \n",
    "\n",
    "On further investigation, we noted that the Books and Rerefence category offers up the most amount of options and flexibility. Essentially, a large book typically referred to at a regular cadence (eg. tax or accounting information) could be built into an app format with search options. Additional features could include a discussion forum, highlighting/storing quotes or excerpts per user etc."
   ]
  }
 ],
 "metadata": {
  "kernelspec": {
   "display_name": "Python 3",
   "language": "python",
   "name": "python3"
  },
  "language_info": {
   "codemirror_mode": {
    "name": "ipython",
    "version": 3
   },
   "file_extension": ".py",
   "mimetype": "text/x-python",
   "name": "python",
   "nbconvert_exporter": "python",
   "pygments_lexer": "ipython3",
   "version": "3.8.2"
  }
 },
 "nbformat": 4,
 "nbformat_minor": 4
}
